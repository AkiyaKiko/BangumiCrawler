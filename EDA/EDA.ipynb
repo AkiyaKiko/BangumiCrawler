{
 "cells": [
  {
   "cell_type": "code",
   "execution_count": 2,
   "metadata": {},
   "outputs": [],
   "source": [
    "import sqlite3\n",
    "import pandas as pd\n",
    "\n",
    "# 连接到 SQLite 数据库\n",
    "db_path = \"../anime_data.db\"  # 替换为你的 SQLite 数据库文件路径\n",
    "conn = sqlite3.connect(db_path)"
   ]
  },
  {
   "cell_type": "code",
   "execution_count": 3,
   "metadata": {},
   "outputs": [
    {
     "name": "stdout",
     "output_type": "stream",
     "text": [
      "Tables in database: ['Anime', 'Category', 'sqlite_sequence', 'Anime_Category', 'Production', 'Anime_Production', 'Comments']\n"
     ]
    }
   ],
   "source": [
    "# 查询数据库中的所有表名\n",
    "def get_table_names(conn):\n",
    "    query = \"SELECT name FROM sqlite_master WHERE type='table';\"\n",
    "    tables = pd.read_sql(query, conn)\n",
    "    return tables['name'].tolist()\n",
    "\n",
    "table_names = get_table_names(conn)\n",
    "print(\"Tables in database:\", table_names)\n"
   ]
  },
  {
   "cell_type": "code",
   "execution_count": 4,
   "metadata": {},
   "outputs": [],
   "source": [
    "# 将所有表导入 Pandas 数据帧\n",
    "def load_tables_to_pandas(conn, table_names):\n",
    "    dataframes = {}\n",
    "    for table in table_names:\n",
    "        dataframes[table] = pd.read_sql(f\"SELECT * FROM {table};\", conn)\n",
    "    return dataframes\n",
    "\n",
    "dataframes = load_tables_to_pandas(conn, table_names)\n"
   ]
  },
  {
   "cell_type": "code",
   "execution_count": 5,
   "metadata": {},
   "outputs": [
    {
     "name": "stdout",
     "output_type": "stream",
     "text": [
      "Table: Anime\n",
      "   anime_id                           anime_title score  score_count  \\\n",
      "0    208827                         少女与战车 最终章 第4话   7.8         1150   \n",
      "1    217021                                    冥王   7.3         2994   \n",
      "2    228715                             你想活出怎样的人生   7.2         4916   \n",
      "3    235920                            超级马力欧兄弟大电影   7.1         1281   \n",
      "4    244930  Princess Principal Crown Handler 第3章   6.7          504   \n",
      "\n",
      "  release_date  \n",
      "0   2023-10-06  \n",
      "1   2023-10-26  \n",
      "2   2023-07-14  \n",
      "3   2023-04-05  \n",
      "4   2023-04-07  \n",
      "\n",
      "\n",
      "Table: Category\n",
      "   category_id category_name\n",
      "0            1            原创\n",
      "1            2            欧美\n",
      "2            3            短片\n",
      "3            4          2023\n",
      "4            5          动画短片\n",
      "\n",
      "\n",
      "Table: sqlite_sequence\n",
      "         name    seq\n",
      "0    Category   1587\n",
      "1  Production    240\n",
      "2    Comments  58644\n",
      "\n",
      "\n",
      "Table: Anime_Category\n",
      "   anime_id  category_id\n",
      "0    448689            1\n",
      "1    448689            2\n",
      "2    448689            3\n",
      "3    448689            4\n",
      "4    448689            5\n",
      "\n",
      "\n",
      "Table: Production\n",
      "   production_id          production_name\n",
      "0              1              CloverWorks\n",
      "1              2  Sony Pictures Animation\n",
      "2              3                     動画工房\n",
      "3              4                     若森数字\n",
      "4              5              BN Pictures\n",
      "\n",
      "\n",
      "Table: Anime_Production\n",
      "   anime_id  production_id\n",
      "0    432404              1\n",
      "1    282413              2\n",
      "2    424227              3\n",
      "3    367712              4\n",
      "4    404427              5\n",
      "\n",
      "\n",
      "Table: Comments\n",
      "   comment_id  anime_id                                            comment  \\\n",
      "0           1    417020              一流演出，一流音乐，一流作画，除了剧情设定对新人有点压力不是10分也有9分   \n",
      "1           2    417020                                     漫漫长夜中照亮人类的一抹流星   \n",
      "2           3    417020                                  告诉我，怎样才能摧毁这个腐朽的体制   \n",
      "3           4    417020  沉闷的音响，克制的演出，简要的对白，昏暗的高潮场景。冷色的基调组成了一具铁笼，闭塞时代、联邦...   \n",
      "4           5    417020                                           补标 再编辑版本   \n",
      "\n",
      "  time_ago  \n",
      "0       看过  \n",
      "1       看过  \n",
      "2       看过  \n",
      "3       看过  \n",
      "4       看过  \n",
      "\n",
      "\n"
     ]
    }
   ],
   "source": [
    "# 查看某张表的数据\n",
    "for table, df in dataframes.items():\n",
    "    print(f\"Table: {table}\")\n",
    "    print(df.head())  # 查看前5行数据\n",
    "    print(\"\\n\")\n"
   ]
  },
  {
   "cell_type": "code",
   "execution_count": 6,
   "metadata": {},
   "outputs": [],
   "source": [
    "conn.close()"
   ]
  }
 ],
 "metadata": {
  "kernelspec": {
   "display_name": "Python 3",
   "language": "python",
   "name": "python3"
  },
  "language_info": {
   "codemirror_mode": {
    "name": "ipython",
    "version": 3
   },
   "file_extension": ".py",
   "mimetype": "text/x-python",
   "name": "python",
   "nbconvert_exporter": "python",
   "pygments_lexer": "ipython3",
   "version": "3.12.7"
  }
 },
 "nbformat": 4,
 "nbformat_minor": 2
}
